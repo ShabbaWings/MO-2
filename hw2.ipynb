{
 "cells": [
  {
   "cell_type": "markdown",
   "metadata": {
    "id": "RYp0bXOFK-hP"
   },
   "source": [
    "# Машинное обучение, ФКН ВШЭ\n",
    "\n",
    "## Практическое задание 8. Метод опорных векторов и аппроксимация ядер\n",
    "\n",
    "### Общая информация\n",
    "Дата выдачи: 1.10.2021\n",
    "\n",
    "Мягкий дедлайн: 17.10.2021 23:59 МСК\n",
    "\n",
    "Жесткий дедлайн: 24.10.2021 23:59 МСК (1 неделя -- минус балл)\n",
    "\n",
    "### Оценивание и штрафы\n",
    "Каждая из задач имеет определенную «стоимость» (указана в скобках около задачи). Максимальная оценка за работу (без учёта бонусов) — 10 баллов.\n",
    "\n",
    "Сдавать задание после указанного жёсткого срока сдачи нельзя. При выставлении неполного балла за задание в связи с наличием ошибок на усмотрение проверяющего предусмотрена возможность исправить работу на указанных в ответном письме условиях.\n",
    "\n",
    "Задание выполняется самостоятельно. «Похожие» решения считаются плагиатом и все задействованные студенты (в том числе те, у кого списали) не могут получить за него больше 0 баллов (подробнее о плагиате см. на странице курса). Если вы нашли решение какого-то из заданий (или его часть) в открытом источнике, необходимо указать ссылку на этот источник в отдельном блоке в конце вашей работы (скорее всего вы будете не единственным, кто это нашел, поэтому чтобы исключить подозрение в плагиате, необходима ссылка на источник).\n",
    "\n",
    "Неэффективная реализация кода может негативно отразиться на оценке.\n",
    "\n",
    "### Формат сдачи\n",
    "Загрузите решение в свой репозиторий на github и поделитесь [ссылкой на решение в форме](https://forms.gle/ZzCaqRj6bmfpSpyL7). Не забудьте дать доступ к Вашему репозиторию, что у преподавателей была возмоожность проверить работу."
   ]
  },
  {
   "cell_type": "markdown",
   "metadata": {
    "id": "vY8vT0W_K-hR"
   },
   "source": [
    "### О задании\n",
    "\n",
    "На занятиях мы подробно обсуждали метод опорных векторов (SVM). В базовой версии в нём нет чего-то особенного — мы всего лишь используем специальную функцию потерь, которая не требует устремлять отступы к бесконечности; ей достаточно, чтобы отступы были не меньше +1. Затем мы узнали, что SVM можно переписать в двойственном виде, который, позволяет заменить скалярные произведения объектов на ядра. Это будет соответствовать построению модели в новом пространстве более высокой размерности, координаты которого представляют собой нелинейные модификации исходных признаков.\n",
    "\n",
    "Ядровой SVM, к сожалению, довольно затратен по памяти (нужно хранить матрицу Грама размера $d \\times d$) и по времени (нужно решать задачу условной оптимизации с квадратичной функцией, а это не очень быстро). Мы обсуждали, что есть способы посчитать новые признаки $\\tilde \\varphi(x)$ на основе исходных так, что скалярные произведения этих новых $\\langle \\tilde \\varphi(x), \\tilde \\varphi(z) \\rangle$ приближают ядро $K(x, z)$.\n",
    "\n",
    "Мы будем исследовать аппроксимации методом Random Fourier Features (RFF, также в литературе встречается название Random Kitchen Sinks) для гауссовых ядер. Будем использовать формулы, которые немного отличаются от того, что было на лекциях (мы добавим сдвиги внутрь тригонометрических функций и будем использовать только косинусы, потому что с нужным сдвигом косинус превратится в синус):\n",
    "$$\\tilde \\varphi(x) = (\n",
    "\\cos (w_1^T x + b_1),\n",
    "\\dots,\n",
    "\\cos (w_n^T x + b_n)\n",
    "),$$\n",
    "где $w_j \\sim \\mathcal{N}(0, 1/\\sigma^2)$, $b_j \\sim U[-\\pi, \\pi]$.\n",
    "\n",
    "На новых признаках $\\tilde \\varphi(x)$ мы будем строить любую линейную модель.\n",
    "\n",
    "Можно считать, что это некоторая новая парадигма построения сложных моделей. Можно направленно искать сложные нелинейные закономерности в данных с помощью градиентного бустинга или нейронных сетей, а можно просто нагенерировать большое количество случайных нелинейных признаков и надеяться, что быстрая и простая модель (то есть линейная) сможет показать на них хорошее качество. В этом задании мы изучим, насколько работоспособна такая идея.\n",
    "\n",
    "### Алгоритм\n",
    "\n",
    "Вам потребуется реализовать следующий алгоритм:\n",
    "1. Понизить размерность выборки до new_dim с помощью метода главных компонент.\n",
    "2. Для полученной выборки оценить гиперпараметр $\\sigma^2$ с помощью эвристики (рекомендуем считать медиану не по всем парам объектов, а по случайному подмножеству из где-то миллиона пар объектов): $$\\sigma^2 = \\text{median}_{i, j = 1, \\dots, \\ell, i \\neq j} \\left\\{\\sum_{k = 1}^{d} (x_{ik} - x_{jk})^2 \\right\\}$$\n",
    "3. Сгенерировать n_features наборов весов $w_j$ и сдвигов $b_j$.\n",
    "4. Сформировать n_features новых признаков по формулам, приведённым выше.\n",
    "5. Обучить линейную модель (логистическую регрессию или SVM) на новых признаках.\n",
    "6. Повторить преобразования (PCA, формирование новых признаков) к тестовой выборке и применить модель."
   ]
  },
  {
   "cell_type": "markdown",
   "metadata": {
    "id": "N_sGunb7K-hS"
   },
   "source": [
    "Тестировать алгоритм мы будем на данных Fashion MNIST. Ниже код для их загрузки и подготовки."
   ]
  },
  {
   "cell_type": "code",
   "execution_count": 1,
   "metadata": {},
   "outputs": [
    {
     "name": "stderr",
     "output_type": "stream",
     "text": [
      "/opt/anaconda3/lib/python3.7/site-packages/dask/dataframe/utils.py:14: FutureWarning: pandas.util.testing is deprecated. Use the functions in the public API at pandas.testing instead.\n",
      "  import pandas.util.testing as tm\n"
     ]
    }
   ],
   "source": [
    "import keras\n",
    "from keras.datasets import fashion_mnist\n",
    "\n",
    "import typing as tp\n",
    "\n",
    "import numpy as np\n",
    "import pandas as pd\n",
    "import seaborn as sns\n",
    "sns.set()\n",
    "\n",
    "import sklearn\n",
    "import lightgbm\n",
    "\n",
    "from sklearn.metrics import accuracy_score\n",
    "from sklearn.decomposition import PCA\n",
    "from sklearn.model_selection import GridSearchCV\n",
    "from sklearn.model_selection import KFold\n",
    "from sklearn.feature_extraction.text import TfidfVectorizer\n",
    "from sklearn.feature_selection import SelectFromModel\n",
    "from sklearn.preprocessing import OneHotEncoder\n",
    "from sklearn.compose import ColumnTransformer\n",
    "from sklearn.ensemble import RandomForestClassifier\n",
    "from sklearn.model_selection import train_test_split\n",
    "from sklearn.linear_model import LogisticRegression\n",
    "from sklearn.svm import SVC, LinearSVC\n",
    "from sklearn.base import BaseEstimator, TransformerMixin, ClassifierMixin\n",
    "\n",
    "from lightgbm import LGBMClassifier\n",
    "\n",
    "from timeit import default_timer as timer\n",
    "\n",
    "from joblib import Parallel, delayed"
   ]
  },
  {
   "cell_type": "code",
   "execution_count": 2,
   "metadata": {
    "id": "YyG6dBfjK-hS"
   },
   "outputs": [],
   "source": [
    "(x_train_pics, y_train), (x_test_pics, y_test) = fashion_mnist.load_data()\n",
    "\n",
    "x_train_pics = x_train_pics.astype(int)\n",
    "y_train      = y_train.astype(int)\n",
    "\n",
    "x_test_pics = x_test_pics.astype(int)\n",
    "y_test      = y_test.astype(int)\n",
    "\n",
    "x_train = x_train_pics.reshape(x_train_pics.shape[0], -1)\n",
    "x_test  = x_test_pics.reshape(x_test_pics.shape[0], -1)"
   ]
  },
  {
   "cell_type": "markdown",
   "metadata": {
    "id": "rJNN55F7K-hT"
   },
   "source": [
    "__Задание 1. (5 баллов)__\n",
    "\n",
    "Реализуйте алгоритм, описанный выше. Можете воспользоваться шаблоном класса ниже или написать свой интерфейс.\n",
    "\n",
    "Ваша реализация должна поддерживать следующие опции:\n",
    "1. Возможность задавать значения гиперпараметров new_dim (по умолчанию 50) и n_features (по умолчанию 1000).\n",
    "2. Возможность включать или выключать предварительное понижение размерности с помощью метода главных компонент.\n",
    "3. Возможность выбирать тип линейной модели (логистическая регрессия или SVM с линейным ядром).\n",
    "\n",
    "Протестируйте на данных Fashion MNIST, сформированных кодом выше. Если на тесте у вас получилась доля верных ответов не ниже 0.84 с гиперпараметрами по умолчанию, то вы всё сделали правильно."
   ]
  },
  {
   "cell_type": "code",
   "execution_count": 3,
   "metadata": {
    "id": "jP8yepx8K-hT"
   },
   "outputs": [],
   "source": [
    "class RKSClassifier(ClassifierMixin, BaseEstimator):\n",
    "    \"\"\"\n",
    "    Classifier that uses Random Kitchen Sinks (RKS) approach.\n",
    "    \"\"\"\n",
    "\n",
    "    def __init__(\n",
    "        self,\n",
    "        base_classifier:     str  = \"LogisticRegression\",\n",
    "        n_features:          int  = 1000,\n",
    "        n_sigma_pairs:       int  = 1000 * 1000,\n",
    "        new_dim: tp.Optional[int] = 50,\n",
    "        transform_function        = np.cos,\n",
    "    ) -> None:\n",
    "        \"\"\"\n",
    "        Make new RKSClassifier instance.\n",
    "        :param base_classifier: LogisticRegression, LinearSVC or SVC.\n",
    "        :param n_features: number of features in data.\n",
    "        :param n_sigma_pairs: number of pairs that are used for sigma estimation.\n",
    "        :param new_dim: hyperparameter for reducing data dimensionality, use \"None\" for disabling reduction.\n",
    "        :return: nothing.\n",
    "        \"\"\"\n",
    "\n",
    "        base_classifiers = {\n",
    "            \"LogisticRegression\": LogisticRegression,\n",
    "            \"LinearSVC\": LinearSVC,\n",
    "            \"SVC\": SVC,\n",
    "        }\n",
    "        self.base_classifier_ = base_classifiers[base_classifier]()\n",
    "\n",
    "        self.n_features_:          int  = n_features\n",
    "        self.n_sigma_pairs_:       int  = n_sigma_pairs\n",
    "        self.new_dim_: tp.Optional[int] = new_dim\n",
    "\n",
    "        self.transform_function_: tp.Callable[..., tp.Any] = transform_function\n",
    "\n",
    "        self.pca_transformer_: tp.Optional[PCA] = None\n",
    "        \n",
    "        self.weights_: tp.Optional[np.array] = None\n",
    "        self.bias_:    tp.Optional[np.array] = None\n",
    "\n",
    "        return\n",
    "\n",
    "    def fit(\n",
    "        self,\n",
    "        X: np.array,\n",
    "        y: np.array,\n",
    "        *args, \n",
    "        **kwargs,\n",
    "    ) -> \"RKSClassifier\":\n",
    "        \"\"\"\n",
    "        Fit classifier to train data.\n",
    "        :param X: matrix with samples from train data.\n",
    "        :param y: optional target vector.\n",
    "        :return: self as in sklearn docs.\n",
    "        \"\"\"\n",
    "\n",
    "        new_features = self._generate_new_features(X)\n",
    "\n",
    "        print(\"[RKSClassifier] Fitting classifier to train samples...\")\n",
    "\n",
    "        self.base_classifier_.fit(\n",
    "            X=new_features, \n",
    "            y=y,\n",
    "        )\n",
    "\n",
    "        print(\"[RKSClassifier] Successful fitting.\")\n",
    "\n",
    "        return self\n",
    "\n",
    "    def predict(\n",
    "        self,\n",
    "        X: np.array,\n",
    "    ) -> np.array:\n",
    "        \"\"\"\n",
    "        Make prediction for samples from X.\n",
    "        :param X: matrix with samples.\n",
    "        :return: target vector.\n",
    "        \"\"\"\n",
    "\n",
    "        new_features = self._generate_new_features(X)\n",
    "\n",
    "        print(\"[RKSClassifier] Making predictions for test data...\")\n",
    "\n",
    "        result = self.base_classifier_.predict(new_features) \n",
    "\n",
    "        print(\"[RKSClassifier] Successful predicting.\")\n",
    "\n",
    "        return result\n",
    "\n",
    "    def _generate_new_features(\n",
    "        self,\n",
    "        X: np.array,\n",
    "    ) -> np.array:\n",
    "        \"\"\"\n",
    "        Generate new features using cos(<w, x> + b) formula.\n",
    "        :param X: matrix with samples and features.\n",
    "        :return: matrix with new features for each sample.\n",
    "        \"\"\"\n",
    "\n",
    "        if self.new_dim_ is not None:\n",
    "            X = self._reduce_dimensionality(X)\n",
    "\n",
    "        if self.weights_ is None or self.bias_ is None:\n",
    "            sigma = self._estimate_sigma(X)\n",
    "            self.weights_ = self._generate_weights(\n",
    "                n_coordinates=X.shape[1],\n",
    "                sigma=sigma,\n",
    "            )\n",
    "            self.bias_ = self._generate_bias()\n",
    "\n",
    "        result = X @ self.weights_ + self.bias_ \n",
    "        \n",
    "        return self.transform_function_(result)\n",
    "\n",
    "    def _reduce_dimensionality(\n",
    "        self,\n",
    "        X: np.array, \n",
    "    ) -> np.array:\n",
    "        \"\"\"\n",
    "        Reduce matrix dimensionality using PCA.\n",
    "        :param X: matrix with samples and features.\n",
    "        :return: matrix X with reduced dimensionality.\n",
    "        \"\"\"\n",
    "\n",
    "        if not self.pca_transformer_:\n",
    "            self.pca_transformer_ = PCA(\n",
    "                n_components=self.new_dim_,\n",
    "                copy=False,\n",
    "            )\n",
    "            self.pca_transformer_.fit(X)\n",
    "\n",
    "        print(\"[RKSClassifier:PCA] Predicting...\")\n",
    "\n",
    "        result = self.pca_transformer_.transform(X)\n",
    "\n",
    "        print(\"[RKSClassifier:PCA] Successful predicting.\")\n",
    "\n",
    "        return result\n",
    "\n",
    "    def _estimate_sigma(\n",
    "        self,\n",
    "        X: np.array,\n",
    "    ) -> np.float:\n",
    "        \"\"\"\n",
    "        Estimate sigma hyperparameter for Normal distribution on data X.\n",
    "        :param X: matrix with samples and features.\n",
    "        :return: estimated sigma.\n",
    "        \"\"\"\n",
    "\n",
    "        indexes_left, indexes_right = self._generate_indexes(\n",
    "            max_index=X.shape[0],\n",
    "        )\n",
    "        sum_ = np.sum(\n",
    "            a=(X[indexes_left] - X[indexes_right]) ** 2,\n",
    "            axis=1,\n",
    "        )\n",
    "\n",
    "        sigma_squared = np.median(sum_)\n",
    "        sigma = np.sqrt(sigma_squared)\n",
    "\n",
    "        print(f\"[RKSClassifier] Estimated sigma = {sigma}\")\n",
    "\n",
    "        return sigma\n",
    "\n",
    "    def _generate_indexes(\n",
    "        self,\n",
    "        max_index: int,\n",
    "    ) -> np.array:\n",
    "        \"\"\"\n",
    "        Generate sample indexes for sigma estimation.\n",
    "        :param max_index: used for computing [0, ..., max_index - 1] array for index sampling.\n",
    "        :return: pair of index arrays.\n",
    "        \"\"\"\n",
    "\n",
    "        indexes = np.random.choice(\n",
    "            a=np.arange(max_index),\n",
    "            size=(2, self.n_sigma_pairs_),\n",
    "        )\n",
    "\n",
    "        return indexes\n",
    "\n",
    "    def _generate_weights(\n",
    "        self,\n",
    "        n_coordinates: int,\n",
    "        sigma:         np.float,\n",
    "    ) -> np.array:\n",
    "        \"\"\"\n",
    "        Generate n_features weight vectors using Normal(0, 1 / sigma^2) distribution.\n",
    "        :param n_coordinates: number of coordinates in one vector.\n",
    "        :param sigma: estimated on samples.\n",
    "        :return: array of vectors (matrix, essentially).\n",
    "        \"\"\"\n",
    "\n",
    "        weights = np.random.normal(\n",
    "            loc=0.0,\n",
    "            scale=1.0 / sigma,\n",
    "            size=(n_coordinates, self.n_features_),\n",
    "        )\n",
    "\n",
    "        return weights\n",
    "\n",
    "    def _generate_bias(\n",
    "        self,\n",
    "    ) -> np.array:\n",
    "        \"\"\"\n",
    "        Generate bias vector with n_features coordinates using Uniform[-\\pi, \\pi] ditribution.\n",
    "        :param dimensions: number of vector coordinates.\n",
    "        :return: bias vector.\n",
    "        \"\"\"\n",
    "\n",
    "        bias = np.random.uniform(\n",
    "            low=-np.pi,\n",
    "            high=np.pi,\n",
    "            size=(1, self.n_features_),\n",
    "        )\n",
    "\n",
    "        return bias"
   ]
  },
  {
   "cell_type": "code",
   "execution_count": 4,
   "metadata": {},
   "outputs": [
    {
     "name": "stdout",
     "output_type": "stream",
     "text": [
      "[RKSClassifier:PCA] Predicting...\n",
      "[RKSClassifier:PCA] Successful predicting.\n",
      "[RKSClassifier] Estimated sigma = 2703.1237799191636\n",
      "[RKSClassifier] Fitting classifier to train samples...\n"
     ]
    },
    {
     "name": "stderr",
     "output_type": "stream",
     "text": [
      "/opt/anaconda3/lib/python3.7/site-packages/sklearn/linear_model/_logistic.py:765: ConvergenceWarning: lbfgs failed to converge (status=1):\n",
      "STOP: TOTAL NO. of ITERATIONS REACHED LIMIT.\n",
      "\n",
      "Increase the number of iterations (max_iter) or scale the data as shown in:\n",
      "    https://scikit-learn.org/stable/modules/preprocessing.html\n",
      "Please also refer to the documentation for alternative solver options:\n",
      "    https://scikit-learn.org/stable/modules/linear_model.html#logistic-regression\n",
      "  extra_warning_msg=_LOGISTIC_SOLVER_CONVERGENCE_MSG)\n"
     ]
    },
    {
     "name": "stdout",
     "output_type": "stream",
     "text": [
      "[RKSClassifier] Successful fitting.\n",
      "[RKSClassifier:PCA] Predicting...\n",
      "[RKSClassifier:PCA] Successful predicting.\n",
      "[RKSClassifier] Making predictions for test data...\n",
      "[RKSClassifier] Successful predicting.\n"
     ]
    },
    {
     "data": {
      "text/plain": [
       "0.8589"
      ]
     },
     "execution_count": 4,
     "metadata": {},
     "output_type": "execute_result"
    }
   ],
   "source": [
    "rks_classifier = RKSClassifier()\n",
    "rks_classifier = rks_classifier.fit(\n",
    "    X=x_train,\n",
    "    y=y_train,\n",
    ")\n",
    "predictions = rks_classifier.predict(x_test)\n",
    "accuracy_score(y_test, predictions)"
   ]
  },
  {
   "cell_type": "markdown",
   "metadata": {
    "id": "HYqQUEi-K-hU"
   },
   "source": [
    "__Задание 2. (3 балла)__\n",
    "\n",
    "Сравните подход со случайными признаками с обучением SVM на исходных признаках. Попробуйте вариант с обычным (линейным) SVM и с ядровым SVM. Ядровой SVM может очень долго обучаться, поэтому можно делать любые разумные вещи для ускорения: брать подмножество объектов из обучающей выборки, например.\n",
    "\n",
    "Сравните подход со случайными признаками с вариантом, в котором вы понижаете размерность с помощью PCA и обучаете градиентный бустинг. Используйте одну из реализаций CatBoost/LightGBM/XGBoost, не забудьте подобрать число деревьев и длину шага.\n",
    "\n",
    "Сделайте выводы — насколько идея со случайными признаками работает? Сравните как с точки зрения качества, так и с точки зрения скорости обучения и применения."
   ]
  },
  {
   "cell_type": "code",
   "execution_count": 5,
   "metadata": {
    "id": "qN8LUlJgK-hV"
   },
   "outputs": [],
   "source": [
    "def get_model(\n",
    "    features: str = \"original\",\n",
    "    kernel:   str = \"linear\",\n",
    ") -> tp.Any:\n",
    "    \"\"\"\n",
    "    Get appropriate SVM model.\n",
    "    :param features: learn and predict using random or original features.\n",
    "    :param kernel: learn and predict using linear or custom kernel.\n",
    "    :return: according model.\n",
    "    \"\"\"\n",
    "\n",
    "    models = {\n",
    "        \"original linear\":      LinearSVC(),\n",
    "        \"original nonlinear\":   SVC(),\n",
    "        \"random linear\":        RKSClassifier(base_classifier=\"LinearSVC\", new_dim=None),\n",
    "        \"random nonlinear\":     RKSClassifier(base_classifier=\"SVC\",       new_dim=None),\n",
    "        \"random_pca linear\":    RKSClassifier(base_classifier=\"LinearSVC\"),\n",
    "        \"random_pca nonlinear\": RKSClassifier(base_classifier=\"SVC\"),\n",
    "    }\n",
    "\n",
    "    return models[f\"{features} {kernel}\"]"
   ]
  },
  {
   "cell_type": "code",
   "execution_count": 6,
   "metadata": {},
   "outputs": [],
   "source": [
    "def benchmark_model(\n",
    "    model: tp.Any,\n",
    "    x_train: np.array,\n",
    "    y_train: np.array,\n",
    "    x_test:  np.array,\n",
    "    y_test:  np.array,\n",
    ") -> tp.Any:\n",
    "    \"\"\"\n",
    "    Get model's predictions accuracy and measure elapsed time.\n",
    "    :param model: model to benchmark.\n",
    "    :return: pair (predictions, elapsed time).\n",
    "    \"\"\"\n",
    "\n",
    "    start = timer()\n",
    "\n",
    "    model.fit(\n",
    "        X=x_train, \n",
    "        y=y_train,\n",
    "    )\n",
    "    predictions = model.predict(x_test)\n",
    "\n",
    "    end = timer()\n",
    "\n",
    "    elapsed = end - start\n",
    "    score = accuracy_score(y_test, predictions)\n",
    "\n",
    "    return score, elapsed"
   ]
  },
  {
   "cell_type": "code",
   "execution_count": 7,
   "metadata": {},
   "outputs": [
    {
     "name": "stderr",
     "output_type": "stream",
     "text": [
      "/opt/anaconda3/lib/python3.7/site-packages/sklearn/svm/_base.py:986: ConvergenceWarning: Liblinear failed to converge, increase the number of iterations.\n",
      "  \"the number of iterations.\", ConvergenceWarning)\n"
     ]
    }
   ],
   "source": [
    "benchmark_results = {}\n",
    "\n",
    "features, kernel = \"original\", \"linear\"\n",
    "result = benchmark_model(\n",
    "    get_model(features, kernel),\n",
    "    x_train, y_train,\n",
    "    x_test,  y_test,\n",
    ")\n",
    "benchmark_results[f\"{features} {kernel}\"] = result"
   ]
  },
  {
   "cell_type": "code",
   "execution_count": 8,
   "metadata": {},
   "outputs": [],
   "source": [
    "features, kernel = \"original\", \"nonlinear\"\n",
    "result = benchmark_model(\n",
    "    get_model(features, kernel),\n",
    "    x_train, y_train,\n",
    "    x_test,  y_test,\n",
    ")\n",
    "benchmark_results[f\"{features} {kernel}\"] = result"
   ]
  },
  {
   "cell_type": "code",
   "execution_count": 9,
   "metadata": {},
   "outputs": [
    {
     "name": "stdout",
     "output_type": "stream",
     "text": [
      "[RKSClassifier] Estimated sigma = 2927.4476084124885\n",
      "[RKSClassifier] Fitting classifier to train samples...\n"
     ]
    },
    {
     "name": "stderr",
     "output_type": "stream",
     "text": [
      "/opt/anaconda3/lib/python3.7/site-packages/sklearn/svm/_base.py:986: ConvergenceWarning: Liblinear failed to converge, increase the number of iterations.\n",
      "  \"the number of iterations.\", ConvergenceWarning)\n"
     ]
    },
    {
     "name": "stdout",
     "output_type": "stream",
     "text": [
      "[RKSClassifier] Successful fitting.\n",
      "[RKSClassifier] Making predictions for test data...\n",
      "[RKSClassifier] Successful predicting.\n"
     ]
    }
   ],
   "source": [
    "features, kernel = \"random\", \"linear\"\n",
    "result = benchmark_model(\n",
    "    get_model(features, kernel),\n",
    "    x_train, y_train,\n",
    "    x_test,  y_test,\n",
    ")\n",
    "benchmark_results[f\"{features} {kernel}\"] = result"
   ]
  },
  {
   "cell_type": "code",
   "execution_count": 10,
   "metadata": {},
   "outputs": [
    {
     "name": "stdout",
     "output_type": "stream",
     "text": [
      "[RKSClassifier] Estimated sigma = 2927.6338568885285\n",
      "[RKSClassifier] Fitting classifier to train samples...\n",
      "[RKSClassifier] Successful fitting.\n",
      "[RKSClassifier] Making predictions for test data...\n",
      "[RKSClassifier] Successful predicting.\n"
     ]
    }
   ],
   "source": [
    "features, kernel = \"random\", \"nonlinear\"\n",
    "result = benchmark_model(\n",
    "    get_model(features, kernel),\n",
    "    x_train, y_train,\n",
    "    x_test,  y_test,\n",
    ")\n",
    "benchmark_results[f\"{features} {kernel}\"] = result"
   ]
  },
  {
   "cell_type": "code",
   "execution_count": 11,
   "metadata": {},
   "outputs": [
    {
     "name": "stdout",
     "output_type": "stream",
     "text": [
      "[RKSClassifier:PCA] Predicting...\n",
      "[RKSClassifier:PCA] Successful predicting.\n",
      "[RKSClassifier] Estimated sigma = 2704.918218954019\n",
      "[RKSClassifier] Fitting classifier to train samples...\n"
     ]
    },
    {
     "name": "stderr",
     "output_type": "stream",
     "text": [
      "/opt/anaconda3/lib/python3.7/site-packages/sklearn/svm/_base.py:986: ConvergenceWarning: Liblinear failed to converge, increase the number of iterations.\n",
      "  \"the number of iterations.\", ConvergenceWarning)\n"
     ]
    },
    {
     "name": "stdout",
     "output_type": "stream",
     "text": [
      "[RKSClassifier] Successful fitting.\n",
      "[RKSClassifier:PCA] Predicting...\n",
      "[RKSClassifier:PCA] Successful predicting.\n",
      "[RKSClassifier] Making predictions for test data...\n",
      "[RKSClassifier] Successful predicting.\n"
     ]
    }
   ],
   "source": [
    "features, kernel = \"random_pca\", \"linear\"\n",
    "result = benchmark_model(\n",
    "    get_model(features, kernel),\n",
    "    x_train, y_train,\n",
    "    x_test,  y_test,\n",
    ")\n",
    "benchmark_results[f\"{features} {kernel}\"] = result"
   ]
  },
  {
   "cell_type": "code",
   "execution_count": 12,
   "metadata": {},
   "outputs": [
    {
     "name": "stdout",
     "output_type": "stream",
     "text": [
      "[RKSClassifier:PCA] Predicting...\n",
      "[RKSClassifier:PCA] Successful predicting.\n",
      "[RKSClassifier] Estimated sigma = 2703.3218089610855\n",
      "[RKSClassifier] Fitting classifier to train samples...\n",
      "[RKSClassifier] Successful fitting.\n",
      "[RKSClassifier:PCA] Predicting...\n",
      "[RKSClassifier:PCA] Successful predicting.\n",
      "[RKSClassifier] Making predictions for test data...\n",
      "[RKSClassifier] Successful predicting.\n"
     ]
    }
   ],
   "source": [
    "features, kernel = \"random_pca\", \"nonlinear\"\n",
    "result = benchmark_model(\n",
    "    get_model(features, kernel),\n",
    "    x_train, y_train,\n",
    "    x_test,  y_test,\n",
    ")\n",
    "benchmark_results[f\"{features} {kernel}\"] = result"
   ]
  },
  {
   "cell_type": "code",
   "execution_count": 13,
   "metadata": {},
   "outputs": [
    {
     "data": {
      "text/plain": [
       "{'original linear': (0.7509, 298.24271845199996),\n",
       " 'original nonlinear': (0.8828, 383.99904907700005),\n",
       " 'random linear': (0.859, 377.14244625699996),\n",
       " 'random nonlinear': (0.8746, 499.9522385999999),\n",
       " 'random_pca linear': (0.8716, 326.7530172260001),\n",
       " 'random_pca nonlinear': (0.8678, 488.275007385)}"
      ]
     },
     "execution_count": 13,
     "metadata": {},
     "output_type": "execute_result"
    }
   ],
   "source": [
    "benchmark_results"
   ]
  },
  {
   "cell_type": "markdown",
   "metadata": {},
   "source": [
    "В условии задания не было чётко сказано, нужно ли использовать PCA в подходе со случайными признаками, поэтому выше приведены результаты без PCA и с PCA.\n",
    "\n",
    "Видно, что при использовании линейного ядра подход со случайными признаками даёт качество лучше, чем линейное ядро с исходными (0.86 / 0.87 против 0.75), однако работает он немного дольше (6.3 / 5.4 минут против 5).\n",
    "\n",
    "Если сравнивать нелинейные ядра, то результат подхода со случайными признаками почти не отличается от подхода с исходными (0.87 / 0.87 против 0.88), однако работает сильно дольше (8.3 / 8.1 минуты против 6.4)."
   ]
  },
  {
   "cell_type": "code",
   "execution_count": 14,
   "metadata": {},
   "outputs": [],
   "source": [
    "pca_transformer = PCA(\n",
    "    n_components=50,\n",
    "    copy=False,\n",
    ")\n",
    "pca_transformer.fit(x_train)\n",
    "x_train_pca = pca_transformer.transform(x_train)"
   ]
  },
  {
   "cell_type": "code",
   "execution_count": 15,
   "metadata": {},
   "outputs": [],
   "source": [
    "param_grid = {\n",
    "    \"learning_rate\": np.logspace(-2, -1, 8),\n",
    "}\n",
    "\n",
    "lgbm_estimator = LGBMClassifier(\n",
    "    objective=\"multiclass\",\n",
    ")\n",
    "\n",
    "kfold = KFold(\n",
    "    n_splits=4,\n",
    "    shuffle=True,\n",
    ")\n",
    "\n",
    "grid_search = GridSearchCV(\n",
    "    estimator=lgbm_estimator,\n",
    "    param_grid=param_grid,\n",
    "    scoring=\"accuracy\",\n",
    "    cv=kfold,\n",
    "    n_jobs=-1,\n",
    "    verbose=100,\n",
    ")"
   ]
  },
  {
   "cell_type": "code",
   "execution_count": 16,
   "metadata": {},
   "outputs": [
    {
     "name": "stdout",
     "output_type": "stream",
     "text": [
      "Fitting 4 folds for each of 8 candidates, totalling 32 fits\n",
      "GridSearchCV(cv=KFold(n_splits=4, random_state=None, shuffle=True),\n",
      "             estimator=LGBMClassifier(objective='multiclass'), n_jobs=-1,\n",
      "             param_grid={'learning_rate': array([0.01      , 0.01389495, 0.01930698, 0.02682696, 0.03727594,\n",
      "       0.05179475, 0.07196857, 0.1       ])},\n",
      "             scoring='accuracy', verbose=100)\n",
      "{'learning_rate': 0.1}\n",
      "{'mean_fit_time': array([22.29163724, 22.60317355, 24.14595866, 24.18593514, 25.43604547,\n",
      "       24.42161727, 25.09661824, 23.45145839]), 'std_fit_time': array([0.01547466, 1.14731445, 1.07818835, 1.08581832, 1.50003501,\n",
      "       1.33235046, 1.96392809, 2.17461565]), 'mean_score_time': array([3.0199275 , 2.17271423, 2.13325799, 2.2102946 , 2.05208045,\n",
      "       2.40162069, 2.54874772, 2.0697754 ]), 'std_score_time': array([0.17206899, 0.21483201, 0.33205621, 0.18588418, 0.17432764,\n",
      "       0.34547881, 0.37210246, 0.72071067]), 'param_learning_rate': masked_array(data=[0.01, 0.013894954943731374, 0.019306977288832496,\n",
      "                   0.02682695795279726, 0.0372759372031494,\n",
      "                   0.0517947467923121, 0.07196856730011521, 0.1],\n",
      "             mask=[False, False, False, False, False, False, False, False],\n",
      "       fill_value='?',\n",
      "            dtype=object), 'params': [{'learning_rate': 0.01}, {'learning_rate': 0.013894954943731374}, {'learning_rate': 0.019306977288832496}, {'learning_rate': 0.02682695795279726}, {'learning_rate': 0.0372759372031494}, {'learning_rate': 0.0517947467923121}, {'learning_rate': 0.07196856730011521}, {'learning_rate': 0.1}], 'split0_test_score': array([0.82573333, 0.83186667, 0.83953333, 0.8474    , 0.85586667,\n",
      "       0.86246667, 0.8656    , 0.86986667]), 'split1_test_score': array([0.8384    , 0.844     , 0.8518    , 0.86026667, 0.86533333,\n",
      "       0.87233333, 0.8748    , 0.8784    ]), 'split2_test_score': array([0.834     , 0.84026667, 0.84733333, 0.85486667, 0.86253333,\n",
      "       0.86793333, 0.8714    , 0.87333333]), 'split3_test_score': array([0.83566667, 0.8424    , 0.8476    , 0.85406667, 0.86153333,\n",
      "       0.86953333, 0.87206667, 0.87626667]), 'mean_test_score': array([0.83345   , 0.83963333, 0.84656667, 0.85415   , 0.86131667,\n",
      "       0.86806667, 0.87096667, 0.87446667]), 'std_test_score': array([0.00472402, 0.00467559, 0.00443032, 0.00456883, 0.00344105,\n",
      "       0.00359629, 0.00335012, 0.00320763]), 'rank_test_score': array([8, 7, 6, 5, 4, 3, 2, 1], dtype=int32)}\n"
     ]
    }
   ],
   "source": [
    "lgbm_classifier = grid_search.fit(\n",
    "    X=x_train_pca,\n",
    "    y=y_train,\n",
    ")\n",
    "\n",
    "print(lgbm_classifier)\n",
    "print(lgbm_classifier.best_params_)\n",
    "print(lgbm_classifier.cv_results_)"
   ]
  },
  {
   "cell_type": "markdown",
   "metadata": {},
   "source": [
    "Оптимальная длина шага: learning_rate = 0.1"
   ]
  },
  {
   "cell_type": "code",
   "execution_count": 17,
   "metadata": {},
   "outputs": [],
   "source": [
    "param_grid = {\n",
    "    \"n_estimators\": np.arange(100, 1000, 100),\n",
    "}\n",
    "\n",
    "lgbm_estimator = LGBMClassifier(\n",
    "    objective=\"multiclass\",\n",
    ")\n",
    "\n",
    "kfold = KFold(\n",
    "    n_splits=4,\n",
    "    shuffle=True,\n",
    ")\n",
    "\n",
    "grid_search = GridSearchCV(\n",
    "    estimator=lgbm_estimator,\n",
    "    param_grid=param_grid,\n",
    "    scoring=\"accuracy\",\n",
    "    cv=kfold,\n",
    "    n_jobs=-1,\n",
    "    verbose=100,\n",
    ")"
   ]
  },
  {
   "cell_type": "code",
   "execution_count": 18,
   "metadata": {},
   "outputs": [
    {
     "name": "stdout",
     "output_type": "stream",
     "text": [
      "Fitting 4 folds for each of 9 candidates, totalling 36 fits\n",
      "GridSearchCV(cv=KFold(n_splits=4, random_state=None, shuffle=True),\n",
      "             estimator=LGBMClassifier(objective='multiclass'), n_jobs=-1,\n",
      "             param_grid={'n_estimators': array([100, 200, 300, 400, 500, 600, 700, 800, 900])},\n",
      "             scoring='accuracy', verbose=100)\n",
      "{'n_estimators': 900}\n",
      "{'mean_fit_time': array([ 25.89999771,  48.37843376,  71.87451625,  93.43949926,\n",
      "       113.53442103, 136.91075933, 193.13135177, 198.08263075,\n",
      "       184.1141541 ]), 'std_fit_time': array([ 1.80833582,  3.62344785,  4.91133664,  4.80386731,  6.25674624,\n",
      "       12.37934011,  9.98707667, 14.17224181,  6.06485404]), 'mean_score_time': array([ 2.72426307,  9.1880967 , 14.46625805, 19.83539569, 25.95155746,\n",
      "       36.23541373, 44.90252143, 37.40175408, 37.23882121]), 'std_score_time': array([0.33802613, 0.45017748, 0.30198706, 0.18229683, 0.43213619,\n",
      "       1.44820874, 2.05127278, 0.46177321, 5.18952455]), 'param_n_estimators': masked_array(data=[100, 200, 300, 400, 500, 600, 700, 800, 900],\n",
      "             mask=[False, False, False, False, False, False, False, False,\n",
      "                   False],\n",
      "       fill_value='?',\n",
      "            dtype=object), 'params': [{'n_estimators': 100}, {'n_estimators': 200}, {'n_estimators': 300}, {'n_estimators': 400}, {'n_estimators': 500}, {'n_estimators': 600}, {'n_estimators': 700}, {'n_estimators': 800}, {'n_estimators': 900}], 'split0_test_score': array([0.87186667, 0.8756    , 0.87933333, 0.88093333, 0.88206667,\n",
      "       0.8828    , 0.88326667, 0.88346667, 0.88433333]), 'split1_test_score': array([0.8718    , 0.8776    , 0.88173333, 0.88366667, 0.8864    ,\n",
      "       0.88506667, 0.8862    , 0.8864    , 0.88686667]), 'split2_test_score': array([0.874     , 0.88126667, 0.88373333, 0.88593333, 0.8858    ,\n",
      "       0.88533333, 0.8864    , 0.88673333, 0.88633333]), 'split3_test_score': array([0.8754    , 0.88106667, 0.88366667, 0.8856    , 0.8872    ,\n",
      "       0.88946667, 0.889     , 0.88966667, 0.88966667]), 'mean_test_score': array([0.87326667, 0.87888333, 0.88211667, 0.88403333, 0.88536667,\n",
      "       0.88566667, 0.88621667, 0.88656667, 0.8868    ]), 'std_test_score': array([0.00151658, 0.00239136, 0.00179652, 0.00198802, 0.00196893,\n",
      "       0.00240463, 0.00202998, 0.0021952 , 0.00190555]), 'rank_test_score': array([9, 8, 7, 6, 5, 4, 3, 2, 1], dtype=int32)}\n"
     ]
    }
   ],
   "source": [
    "lgbm_classifier = grid_search.fit(\n",
    "    X=x_train_pca,\n",
    "    y=y_train,\n",
    ")\n",
    "\n",
    "print(lgbm_classifier)\n",
    "print(lgbm_classifier.best_params_)\n",
    "print(lgbm_classifier.cv_results_)"
   ]
  },
  {
   "cell_type": "markdown",
   "metadata": {},
   "source": [
    "Оптимальное количество деревеьев: n_estimators = 900"
   ]
  },
  {
   "cell_type": "code",
   "execution_count": 19,
   "metadata": {},
   "outputs": [],
   "source": [
    "pca_transformer = PCA(\n",
    "    n_components=50,\n",
    "    copy=False,\n",
    ")\n",
    "pca_transformer.fit(x_train)\n",
    "\n",
    "x_train_pca = pca_transformer.transform(x_train)\n",
    "x_test_pca  = pca_transformer.transform(x_test)"
   ]
  },
  {
   "cell_type": "code",
   "execution_count": 20,
   "metadata": {},
   "outputs": [],
   "source": [
    "lgbm_classifier = LGBMClassifier(\n",
    "    objective=\"multiclass\",\n",
    "    learning_rate=0.1,\n",
    "    n_estimators=900,\n",
    ")\n",
    "\n",
    "start = timer()\n",
    "\n",
    "lgbm_classifier.fit(\n",
    "    X=x_train_pca,\n",
    "    y=y_train,\n",
    ")\n",
    "\n",
    "lgbm_predictions = lgbm_classifier.predict(x_test_pca)\n",
    "\n",
    "end = timer()\n",
    "\n",
    "lgbm_elapsed = end - start\n",
    "\n",
    "lgbm_score = accuracy_score(\n",
    "    y_true=y_test,\n",
    "    y_pred=lgbm_predictions,\n",
    ")"
   ]
  },
  {
   "cell_type": "code",
   "execution_count": 21,
   "metadata": {},
   "outputs": [
    {
     "name": "stdout",
     "output_type": "stream",
     "text": [
      "[RKSClassifier] Estimated sigma = 2926.9800990098993\n",
      "[RKSClassifier] Fitting classifier to train samples...\n"
     ]
    },
    {
     "name": "stderr",
     "output_type": "stream",
     "text": [
      "/opt/anaconda3/lib/python3.7/site-packages/sklearn/linear_model/_logistic.py:765: ConvergenceWarning: lbfgs failed to converge (status=1):\n",
      "STOP: TOTAL NO. of ITERATIONS REACHED LIMIT.\n",
      "\n",
      "Increase the number of iterations (max_iter) or scale the data as shown in:\n",
      "    https://scikit-learn.org/stable/modules/preprocessing.html\n",
      "Please also refer to the documentation for alternative solver options:\n",
      "    https://scikit-learn.org/stable/modules/linear_model.html#logistic-regression\n",
      "  extra_warning_msg=_LOGISTIC_SOLVER_CONVERGENCE_MSG)\n"
     ]
    },
    {
     "name": "stdout",
     "output_type": "stream",
     "text": [
      "[RKSClassifier] Successful fitting.\n",
      "[RKSClassifier] Making predictions for test data...\n",
      "[RKSClassifier] Successful predicting.\n"
     ]
    }
   ],
   "source": [
    "rks_classifier = RKSClassifier(\n",
    "    new_dim=None,\n",
    ")\n",
    "\n",
    "start = timer()\n",
    "\n",
    "rks_classifier.fit(\n",
    "    X=x_train,\n",
    "    y=y_train,\n",
    ")\n",
    "\n",
    "rks_predictions = rks_classifier.predict(x_test)\n",
    "\n",
    "end = timer()\n",
    "\n",
    "rks_elapsed = end - start\n",
    "\n",
    "rks_score = accuracy_score(\n",
    "    y_true=y_test,\n",
    "    y_pred=rks_predictions,\n",
    ")"
   ]
  },
  {
   "cell_type": "code",
   "execution_count": 22,
   "metadata": {},
   "outputs": [
    {
     "name": "stdout",
     "output_type": "stream",
     "text": [
      "Gradient boosting score\t= 0.8809,\ttime = 80.03999408300024\n",
      "RKS without PCA score\t= 0.8623,\ttime = 69.38918591700076\n"
     ]
    }
   ],
   "source": [
    "print(f\"Gradient boosting score\\t= {lgbm_score},\\ttime = {lgbm_elapsed}\")\n",
    "print(f\"RKS without PCA score\\t= {rks_score},\\ttime = {rks_elapsed}\")"
   ]
  },
  {
   "cell_type": "markdown",
   "metadata": {},
   "source": [
    "По итогу видно, что градиентный бустинг с подобранными параметрами даёт результат почти на две сотых лучше, однако работает на 10 секунд дольше"
   ]
  },
  {
   "cell_type": "markdown",
   "metadata": {
    "id": "e6umjhWuK-hV"
   },
   "source": [
    "__Задание 3. (2 балла)__\n",
    "\n",
    "Проведите эксперименты:\n",
    "1. Помогает ли предварительное понижение размерности с помощью PCA? \n",
    "2. Как зависит итоговое качество от n_features? Выходит ли оно на плато при росте n_features?\n",
    "3. Важно ли, какую модель обучать — логистическую регрессию или SVM?"
   ]
  },
  {
   "cell_type": "markdown",
   "metadata": {},
   "source": [
    "Первую часть задания мы, на самом деле, уже выполнили чуть выше, когда сравнивали несколько вариаций SVM. По результатам проведённых экспериментов видно, что использование PCA в комбинации с SVM не сильно влияет на итоговое качество предсказаний (разница в 0.01), хотя можно и поспорить, является ли улучшение на один процент значимым.\n",
    "\n",
    "Теперь исследуем зависимость качества предсказаний от n_features"
   ]
  },
  {
   "cell_type": "code",
   "execution_count": 23,
   "metadata": {
    "id": "c2QIHIMbK-hW"
   },
   "outputs": [],
   "source": [
    "def score_rks_with_(n_features):\n",
    "    rks_classifier = RKSClassifier(\n",
    "        n_features=n_features,\n",
    "    )\n",
    "\n",
    "    rks_classifier.fit(\n",
    "        X=x_train,\n",
    "        y=y_train,\n",
    "    )\n",
    "\n",
    "    predictions = rks_classifier.predict(\n",
    "        X=x_test,\n",
    "    )\n",
    "\n",
    "    score = accuracy_score(\n",
    "        y_true=y_test, \n",
    "        y_pred=predictions,\n",
    "    )\n",
    "\n",
    "    return score"
   ]
  },
  {
   "cell_type": "code",
   "execution_count": 24,
   "metadata": {},
   "outputs": [
    {
     "name": "stdout",
     "output_type": "stream",
     "text": [
      "[Parallel(n_jobs=4)]: Using backend LokyBackend with 4 concurrent workers.\n",
      "Pickling array (shape=(10000,), dtype=int64).\n",
      "Pickling array (shape=(60000,), dtype=int64).\n",
      "Memmapping (shape=(60000, 784), dtype=int64) to new file /var/folders/ws/2x2rgp1x619c6m223f0w33rm0000gn/T/joblib_memmapping_folder_10627_4030825822/10627-6321031824-76d24eda752846df80f51933ee5a3691.pkl\n",
      "Memmapping (shape=(10000, 784), dtype=int64) to new file /var/folders/ws/2x2rgp1x619c6m223f0w33rm0000gn/T/joblib_memmapping_folder_10627_4030825822/10627-6321031824-bd1b0d04ba3c40408f6b869313ea2431.pkl\n",
      "Pickling array (shape=(10000,), dtype=int64).\n",
      "Pickling array (shape=(60000,), dtype=int64).\n",
      "Memmapping (shape=(60000, 784), dtype=int64) to old file /var/folders/ws/2x2rgp1x619c6m223f0w33rm0000gn/T/joblib_memmapping_folder_10627_4030825822/10627-6321031824-76d24eda752846df80f51933ee5a3691.pkl\n",
      "Memmapping (shape=(10000, 784), dtype=int64) to old file /var/folders/ws/2x2rgp1x619c6m223f0w33rm0000gn/T/joblib_memmapping_folder_10627_4030825822/10627-6321031824-bd1b0d04ba3c40408f6b869313ea2431.pkl\n",
      "Pickling array (shape=(10000,), dtype=int64).\n",
      "Pickling array (shape=(60000,), dtype=int64).\n",
      "Memmapping (shape=(60000, 784), dtype=int64) to old file /var/folders/ws/2x2rgp1x619c6m223f0w33rm0000gn/T/joblib_memmapping_folder_10627_4030825822/10627-6321031824-76d24eda752846df80f51933ee5a3691.pkl\n",
      "Memmapping (shape=(10000, 784), dtype=int64) to old file /var/folders/ws/2x2rgp1x619c6m223f0w33rm0000gn/T/joblib_memmapping_folder_10627_4030825822/10627-6321031824-bd1b0d04ba3c40408f6b869313ea2431.pkl\n",
      "Pickling array (shape=(10000,), dtype=int64).\n",
      "Pickling array (shape=(60000,), dtype=int64).\n",
      "Memmapping (shape=(60000, 784), dtype=int64) to old file /var/folders/ws/2x2rgp1x619c6m223f0w33rm0000gn/T/joblib_memmapping_folder_10627_4030825822/10627-6321031824-76d24eda752846df80f51933ee5a3691.pkl\n",
      "Memmapping (shape=(10000, 784), dtype=int64) to old file /var/folders/ws/2x2rgp1x619c6m223f0w33rm0000gn/T/joblib_memmapping_folder_10627_4030825822/10627-6321031824-bd1b0d04ba3c40408f6b869313ea2431.pkl\n",
      "Pickling array (shape=(10000,), dtype=int64).\n",
      "Pickling array (shape=(60000,), dtype=int64).\n",
      "Memmapping (shape=(60000, 784), dtype=int64) to old file /var/folders/ws/2x2rgp1x619c6m223f0w33rm0000gn/T/joblib_memmapping_folder_10627_4030825822/10627-6321031824-76d24eda752846df80f51933ee5a3691.pkl\n",
      "Memmapping (shape=(10000, 784), dtype=int64) to old file /var/folders/ws/2x2rgp1x619c6m223f0w33rm0000gn/T/joblib_memmapping_folder_10627_4030825822/10627-6321031824-bd1b0d04ba3c40408f6b869313ea2431.pkl\n",
      "[Parallel(n_jobs=4)]: Done   1 tasks      | elapsed:   44.4s\n",
      "Pickling array (shape=(10000,), dtype=int64).\n",
      "Pickling array (shape=(60000,), dtype=int64).\n",
      "Memmapping (shape=(60000, 784), dtype=int64) to old file /var/folders/ws/2x2rgp1x619c6m223f0w33rm0000gn/T/joblib_memmapping_folder_10627_4030825822/10627-6321031824-76d24eda752846df80f51933ee5a3691.pkl\n",
      "Memmapping (shape=(10000, 784), dtype=int64) to old file /var/folders/ws/2x2rgp1x619c6m223f0w33rm0000gn/T/joblib_memmapping_folder_10627_4030825822/10627-6321031824-bd1b0d04ba3c40408f6b869313ea2431.pkl\n",
      "[Parallel(n_jobs=4)]: Done   2 tasks      | elapsed:   50.4s\n",
      "Pickling array (shape=(10000,), dtype=int64).\n",
      "Pickling array (shape=(60000,), dtype=int64).\n",
      "Memmapping (shape=(60000, 784), dtype=int64) to old file /var/folders/ws/2x2rgp1x619c6m223f0w33rm0000gn/T/joblib_memmapping_folder_10627_4030825822/10627-6321031824-76d24eda752846df80f51933ee5a3691.pkl\n",
      "Memmapping (shape=(10000, 784), dtype=int64) to old file /var/folders/ws/2x2rgp1x619c6m223f0w33rm0000gn/T/joblib_memmapping_folder_10627_4030825822/10627-6321031824-bd1b0d04ba3c40408f6b869313ea2431.pkl\n",
      "[Parallel(n_jobs=4)]: Done   3 tasks      | elapsed:   53.5s\n",
      "Pickling array (shape=(10000,), dtype=int64).\n",
      "Pickling array (shape=(60000,), dtype=int64).\n",
      "Memmapping (shape=(60000, 784), dtype=int64) to old file /var/folders/ws/2x2rgp1x619c6m223f0w33rm0000gn/T/joblib_memmapping_folder_10627_4030825822/10627-6321031824-76d24eda752846df80f51933ee5a3691.pkl\n",
      "Memmapping (shape=(10000, 784), dtype=int64) to old file /var/folders/ws/2x2rgp1x619c6m223f0w33rm0000gn/T/joblib_memmapping_folder_10627_4030825822/10627-6321031824-bd1b0d04ba3c40408f6b869313ea2431.pkl\n",
      "[Parallel(n_jobs=4)]: Done   4 tasks      | elapsed:   60.0s\n",
      "Pickling array (shape=(10000,), dtype=int64).\n",
      "Pickling array (shape=(60000,), dtype=int64).\n",
      "Memmapping (shape=(60000, 784), dtype=int64) to old file /var/folders/ws/2x2rgp1x619c6m223f0w33rm0000gn/T/joblib_memmapping_folder_10627_4030825822/10627-6321031824-76d24eda752846df80f51933ee5a3691.pkl\n",
      "Memmapping (shape=(10000, 784), dtype=int64) to old file /var/folders/ws/2x2rgp1x619c6m223f0w33rm0000gn/T/joblib_memmapping_folder_10627_4030825822/10627-6321031824-bd1b0d04ba3c40408f6b869313ea2431.pkl\n",
      "[Parallel(n_jobs=4)]: Done   5 tasks      | elapsed:  1.9min\n",
      "Pickling array (shape=(10000,), dtype=int64).\n",
      "Pickling array (shape=(60000,), dtype=int64).\n",
      "Memmapping (shape=(60000, 784), dtype=int64) to old file /var/folders/ws/2x2rgp1x619c6m223f0w33rm0000gn/T/joblib_memmapping_folder_10627_4030825822/10627-6321031824-76d24eda752846df80f51933ee5a3691.pkl\n",
      "Memmapping (shape=(10000, 784), dtype=int64) to old file /var/folders/ws/2x2rgp1x619c6m223f0w33rm0000gn/T/joblib_memmapping_folder_10627_4030825822/10627-6321031824-bd1b0d04ba3c40408f6b869313ea2431.pkl\n",
      "[Parallel(n_jobs=4)]: Done   6 tasks      | elapsed:  2.0min\n",
      "Pickling array (shape=(10000,), dtype=int64).\n",
      "Pickling array (shape=(60000,), dtype=int64).\n",
      "Memmapping (shape=(60000, 784), dtype=int64) to old file /var/folders/ws/2x2rgp1x619c6m223f0w33rm0000gn/T/joblib_memmapping_folder_10627_4030825822/10627-6321031824-76d24eda752846df80f51933ee5a3691.pkl\n",
      "Memmapping (shape=(10000, 784), dtype=int64) to old file /var/folders/ws/2x2rgp1x619c6m223f0w33rm0000gn/T/joblib_memmapping_folder_10627_4030825822/10627-6321031824-bd1b0d04ba3c40408f6b869313ea2431.pkl\n",
      "[Parallel(n_jobs=4)]: Done   7 tasks      | elapsed:  2.2min\n",
      "Pickling array (shape=(10000,), dtype=int64).\n",
      "Pickling array (shape=(60000,), dtype=int64).\n",
      "Memmapping (shape=(60000, 784), dtype=int64) to old file /var/folders/ws/2x2rgp1x619c6m223f0w33rm0000gn/T/joblib_memmapping_folder_10627_4030825822/10627-6321031824-76d24eda752846df80f51933ee5a3691.pkl\n",
      "Memmapping (shape=(10000, 784), dtype=int64) to old file /var/folders/ws/2x2rgp1x619c6m223f0w33rm0000gn/T/joblib_memmapping_folder_10627_4030825822/10627-6321031824-bd1b0d04ba3c40408f6b869313ea2431.pkl\n",
      "[Parallel(n_jobs=4)]: Done   8 tasks      | elapsed:  2.3min\n",
      "Pickling array (shape=(10000,), dtype=int64).\n",
      "Pickling array (shape=(60000,), dtype=int64).\n",
      "Memmapping (shape=(60000, 784), dtype=int64) to old file /var/folders/ws/2x2rgp1x619c6m223f0w33rm0000gn/T/joblib_memmapping_folder_10627_4030825822/10627-6321031824-76d24eda752846df80f51933ee5a3691.pkl\n",
      "Memmapping (shape=(10000, 784), dtype=int64) to old file /var/folders/ws/2x2rgp1x619c6m223f0w33rm0000gn/T/joblib_memmapping_folder_10627_4030825822/10627-6321031824-bd1b0d04ba3c40408f6b869313ea2431.pkl\n",
      "[Parallel(n_jobs=4)]: Done   9 tasks      | elapsed:  3.4min\n",
      "Pickling array (shape=(10000,), dtype=int64).\n",
      "Pickling array (shape=(60000,), dtype=int64).\n",
      "Memmapping (shape=(60000, 784), dtype=int64) to old file /var/folders/ws/2x2rgp1x619c6m223f0w33rm0000gn/T/joblib_memmapping_folder_10627_4030825822/10627-6321031824-76d24eda752846df80f51933ee5a3691.pkl\n",
      "Memmapping (shape=(10000, 784), dtype=int64) to old file /var/folders/ws/2x2rgp1x619c6m223f0w33rm0000gn/T/joblib_memmapping_folder_10627_4030825822/10627-6321031824-bd1b0d04ba3c40408f6b869313ea2431.pkl\n",
      "[Parallel(n_jobs=4)]: Done  10 tasks      | elapsed:  3.8min\n",
      "Pickling array (shape=(10000,), dtype=int64).\n",
      "Pickling array (shape=(60000,), dtype=int64).\n",
      "Memmapping (shape=(60000, 784), dtype=int64) to old file /var/folders/ws/2x2rgp1x619c6m223f0w33rm0000gn/T/joblib_memmapping_folder_10627_4030825822/10627-6321031824-76d24eda752846df80f51933ee5a3691.pkl\n",
      "Memmapping (shape=(10000, 784), dtype=int64) to old file /var/folders/ws/2x2rgp1x619c6m223f0w33rm0000gn/T/joblib_memmapping_folder_10627_4030825822/10627-6321031824-bd1b0d04ba3c40408f6b869313ea2431.pkl\n",
      "[Parallel(n_jobs=4)]: Done  11 tasks      | elapsed:  4.0min\n",
      "Pickling array (shape=(10000,), dtype=int64).\n",
      "Pickling array (shape=(60000,), dtype=int64).\n",
      "Memmapping (shape=(60000, 784), dtype=int64) to old file /var/folders/ws/2x2rgp1x619c6m223f0w33rm0000gn/T/joblib_memmapping_folder_10627_4030825822/10627-6321031824-76d24eda752846df80f51933ee5a3691.pkl\n",
      "Memmapping (shape=(10000, 784), dtype=int64) to old file /var/folders/ws/2x2rgp1x619c6m223f0w33rm0000gn/T/joblib_memmapping_folder_10627_4030825822/10627-6321031824-bd1b0d04ba3c40408f6b869313ea2431.pkl\n"
     ]
    },
    {
     "name": "stdout",
     "output_type": "stream",
     "text": [
      "[Parallel(n_jobs=4)]: Done  12 tasks      | elapsed:  4.2min\n",
      "Pickling array (shape=(10000,), dtype=int64).\n",
      "Pickling array (shape=(60000,), dtype=int64).\n",
      "Memmapping (shape=(60000, 784), dtype=int64) to old file /var/folders/ws/2x2rgp1x619c6m223f0w33rm0000gn/T/joblib_memmapping_folder_10627_4030825822/10627-6321031824-76d24eda752846df80f51933ee5a3691.pkl\n",
      "Memmapping (shape=(10000, 784), dtype=int64) to old file /var/folders/ws/2x2rgp1x619c6m223f0w33rm0000gn/T/joblib_memmapping_folder_10627_4030825822/10627-6321031824-bd1b0d04ba3c40408f6b869313ea2431.pkl\n",
      "[Parallel(n_jobs=4)]: Done  13 tasks      | elapsed:  5.5min\n",
      "Pickling array (shape=(10000,), dtype=int64).\n",
      "Pickling array (shape=(60000,), dtype=int64).\n",
      "Memmapping (shape=(60000, 784), dtype=int64) to old file /var/folders/ws/2x2rgp1x619c6m223f0w33rm0000gn/T/joblib_memmapping_folder_10627_4030825822/10627-6321031824-76d24eda752846df80f51933ee5a3691.pkl\n",
      "Memmapping (shape=(10000, 784), dtype=int64) to old file /var/folders/ws/2x2rgp1x619c6m223f0w33rm0000gn/T/joblib_memmapping_folder_10627_4030825822/10627-6321031824-bd1b0d04ba3c40408f6b869313ea2431.pkl\n",
      "[Parallel(n_jobs=4)]: Done  14 tasks      | elapsed:  6.0min\n",
      "Pickling array (shape=(10000,), dtype=int64).\n",
      "Pickling array (shape=(60000,), dtype=int64).\n",
      "Memmapping (shape=(60000, 784), dtype=int64) to old file /var/folders/ws/2x2rgp1x619c6m223f0w33rm0000gn/T/joblib_memmapping_folder_10627_4030825822/10627-6321031824-76d24eda752846df80f51933ee5a3691.pkl\n",
      "Memmapping (shape=(10000, 784), dtype=int64) to old file /var/folders/ws/2x2rgp1x619c6m223f0w33rm0000gn/T/joblib_memmapping_folder_10627_4030825822/10627-6321031824-bd1b0d04ba3c40408f6b869313ea2431.pkl\n",
      "[Parallel(n_jobs=4)]: Done  15 tasks      | elapsed:  6.3min\n",
      "Pickling array (shape=(10000,), dtype=int64).\n",
      "Pickling array (shape=(60000,), dtype=int64).\n",
      "Memmapping (shape=(60000, 784), dtype=int64) to old file /var/folders/ws/2x2rgp1x619c6m223f0w33rm0000gn/T/joblib_memmapping_folder_10627_4030825822/10627-6321031824-76d24eda752846df80f51933ee5a3691.pkl\n",
      "Memmapping (shape=(10000, 784), dtype=int64) to old file /var/folders/ws/2x2rgp1x619c6m223f0w33rm0000gn/T/joblib_memmapping_folder_10627_4030825822/10627-6321031824-bd1b0d04ba3c40408f6b869313ea2431.pkl\n",
      "[Parallel(n_jobs=4)]: Done  16 tasks      | elapsed:  6.7min\n",
      "Pickling array (shape=(10000,), dtype=int64).\n",
      "Pickling array (shape=(60000,), dtype=int64).\n",
      "Memmapping (shape=(60000, 784), dtype=int64) to old file /var/folders/ws/2x2rgp1x619c6m223f0w33rm0000gn/T/joblib_memmapping_folder_10627_4030825822/10627-6321031824-76d24eda752846df80f51933ee5a3691.pkl\n",
      "Memmapping (shape=(10000, 784), dtype=int64) to old file /var/folders/ws/2x2rgp1x619c6m223f0w33rm0000gn/T/joblib_memmapping_folder_10627_4030825822/10627-6321031824-bd1b0d04ba3c40408f6b869313ea2431.pkl\n",
      "[Parallel(n_jobs=4)]: Done  17 tasks      | elapsed:  8.2min\n",
      "Pickling array (shape=(10000,), dtype=int64).\n",
      "Pickling array (shape=(60000,), dtype=int64).\n",
      "Memmapping (shape=(60000, 784), dtype=int64) to old file /var/folders/ws/2x2rgp1x619c6m223f0w33rm0000gn/T/joblib_memmapping_folder_10627_4030825822/10627-6321031824-76d24eda752846df80f51933ee5a3691.pkl\n",
      "Memmapping (shape=(10000, 784), dtype=int64) to old file /var/folders/ws/2x2rgp1x619c6m223f0w33rm0000gn/T/joblib_memmapping_folder_10627_4030825822/10627-6321031824-bd1b0d04ba3c40408f6b869313ea2431.pkl\n",
      "[Parallel(n_jobs=4)]: Done  18 tasks      | elapsed:  8.8min\n",
      "Pickling array (shape=(10000,), dtype=int64).\n",
      "Pickling array (shape=(60000,), dtype=int64).\n",
      "Memmapping (shape=(60000, 784), dtype=int64) to old file /var/folders/ws/2x2rgp1x619c6m223f0w33rm0000gn/T/joblib_memmapping_folder_10627_4030825822/10627-6321031824-76d24eda752846df80f51933ee5a3691.pkl\n",
      "Memmapping (shape=(10000, 784), dtype=int64) to old file /var/folders/ws/2x2rgp1x619c6m223f0w33rm0000gn/T/joblib_memmapping_folder_10627_4030825822/10627-6321031824-bd1b0d04ba3c40408f6b869313ea2431.pkl\n",
      "[Parallel(n_jobs=4)]: Done  19 tasks      | elapsed:  9.1min\n",
      "Pickling array (shape=(10000,), dtype=int64).\n",
      "Pickling array (shape=(60000,), dtype=int64).\n",
      "Memmapping (shape=(60000, 784), dtype=int64) to old file /var/folders/ws/2x2rgp1x619c6m223f0w33rm0000gn/T/joblib_memmapping_folder_10627_4030825822/10627-6321031824-76d24eda752846df80f51933ee5a3691.pkl\n",
      "Memmapping (shape=(10000, 784), dtype=int64) to old file /var/folders/ws/2x2rgp1x619c6m223f0w33rm0000gn/T/joblib_memmapping_folder_10627_4030825822/10627-6321031824-bd1b0d04ba3c40408f6b869313ea2431.pkl\n",
      "[Parallel(n_jobs=4)]: Done  20 tasks      | elapsed:  9.6min\n",
      "Pickling array (shape=(10000,), dtype=int64).\n",
      "Pickling array (shape=(60000,), dtype=int64).\n",
      "Memmapping (shape=(60000, 784), dtype=int64) to old file /var/folders/ws/2x2rgp1x619c6m223f0w33rm0000gn/T/joblib_memmapping_folder_10627_4030825822/10627-6321031824-76d24eda752846df80f51933ee5a3691.pkl\n",
      "Memmapping (shape=(10000, 784), dtype=int64) to old file /var/folders/ws/2x2rgp1x619c6m223f0w33rm0000gn/T/joblib_memmapping_folder_10627_4030825822/10627-6321031824-bd1b0d04ba3c40408f6b869313ea2431.pkl\n",
      "[Parallel(n_jobs=4)]: Done  21 tasks      | elapsed: 11.3min\n",
      "Pickling array (shape=(10000,), dtype=int64).\n",
      "Pickling array (shape=(60000,), dtype=int64).\n",
      "Memmapping (shape=(60000, 784), dtype=int64) to old file /var/folders/ws/2x2rgp1x619c6m223f0w33rm0000gn/T/joblib_memmapping_folder_10627_4030825822/10627-6321031824-76d24eda752846df80f51933ee5a3691.pkl\n",
      "Memmapping (shape=(10000, 784), dtype=int64) to old file /var/folders/ws/2x2rgp1x619c6m223f0w33rm0000gn/T/joblib_memmapping_folder_10627_4030825822/10627-6321031824-bd1b0d04ba3c40408f6b869313ea2431.pkl\n",
      "[Parallel(n_jobs=4)]: Done  22 tasks      | elapsed: 12.2min\n",
      "Pickling array (shape=(10000,), dtype=int64).\n",
      "Pickling array (shape=(60000,), dtype=int64).\n",
      "Memmapping (shape=(60000, 784), dtype=int64) to old file /var/folders/ws/2x2rgp1x619c6m223f0w33rm0000gn/T/joblib_memmapping_folder_10627_4030825822/10627-6321031824-76d24eda752846df80f51933ee5a3691.pkl\n",
      "Memmapping (shape=(10000, 784), dtype=int64) to old file /var/folders/ws/2x2rgp1x619c6m223f0w33rm0000gn/T/joblib_memmapping_folder_10627_4030825822/10627-6321031824-bd1b0d04ba3c40408f6b869313ea2431.pkl\n",
      "[Parallel(n_jobs=4)]: Done  23 tasks      | elapsed: 12.6min\n",
      "Pickling array (shape=(10000,), dtype=int64).\n",
      "Pickling array (shape=(60000,), dtype=int64).\n",
      "Memmapping (shape=(60000, 784), dtype=int64) to old file /var/folders/ws/2x2rgp1x619c6m223f0w33rm0000gn/T/joblib_memmapping_folder_10627_4030825822/10627-6321031824-76d24eda752846df80f51933ee5a3691.pkl\n",
      "Memmapping (shape=(10000, 784), dtype=int64) to old file /var/folders/ws/2x2rgp1x619c6m223f0w33rm0000gn/T/joblib_memmapping_folder_10627_4030825822/10627-6321031824-bd1b0d04ba3c40408f6b869313ea2431.pkl\n",
      "[Parallel(n_jobs=4)]: Done  24 tasks      | elapsed: 13.3min\n",
      "Pickling array (shape=(10000,), dtype=int64).\n",
      "Pickling array (shape=(60000,), dtype=int64).\n",
      "Memmapping (shape=(60000, 784), dtype=int64) to old file /var/folders/ws/2x2rgp1x619c6m223f0w33rm0000gn/T/joblib_memmapping_folder_10627_4030825822/10627-6321031824-76d24eda752846df80f51933ee5a3691.pkl\n",
      "Memmapping (shape=(10000, 784), dtype=int64) to old file /var/folders/ws/2x2rgp1x619c6m223f0w33rm0000gn/T/joblib_memmapping_folder_10627_4030825822/10627-6321031824-bd1b0d04ba3c40408f6b869313ea2431.pkl\n",
      "[Parallel(n_jobs=4)]: Done  25 tasks      | elapsed: 15.3min\n",
      "Pickling array (shape=(10000,), dtype=int64).\n",
      "Pickling array (shape=(60000,), dtype=int64).\n",
      "Memmapping (shape=(60000, 784), dtype=int64) to old file /var/folders/ws/2x2rgp1x619c6m223f0w33rm0000gn/T/joblib_memmapping_folder_10627_4030825822/10627-6321031824-76d24eda752846df80f51933ee5a3691.pkl\n",
      "Memmapping (shape=(10000, 784), dtype=int64) to old file /var/folders/ws/2x2rgp1x619c6m223f0w33rm0000gn/T/joblib_memmapping_folder_10627_4030825822/10627-6321031824-bd1b0d04ba3c40408f6b869313ea2431.pkl\n",
      "[Parallel(n_jobs=4)]: Done  26 tasks      | elapsed: 16.2min\n",
      "Pickling array (shape=(10000,), dtype=int64).\n",
      "Pickling array (shape=(60000,), dtype=int64).\n",
      "Memmapping (shape=(60000, 784), dtype=int64) to old file /var/folders/ws/2x2rgp1x619c6m223f0w33rm0000gn/T/joblib_memmapping_folder_10627_4030825822/10627-6321031824-76d24eda752846df80f51933ee5a3691.pkl\n",
      "Memmapping (shape=(10000, 784), dtype=int64) to old file /var/folders/ws/2x2rgp1x619c6m223f0w33rm0000gn/T/joblib_memmapping_folder_10627_4030825822/10627-6321031824-bd1b0d04ba3c40408f6b869313ea2431.pkl\n"
     ]
    },
    {
     "name": "stdout",
     "output_type": "stream",
     "text": [
      "[Parallel(n_jobs=4)]: Done  27 tasks      | elapsed: 16.7min\n",
      "Pickling array (shape=(10000,), dtype=int64).\n",
      "Pickling array (shape=(60000,), dtype=int64).\n",
      "Memmapping (shape=(60000, 784), dtype=int64) to old file /var/folders/ws/2x2rgp1x619c6m223f0w33rm0000gn/T/joblib_memmapping_folder_10627_4030825822/10627-6321031824-76d24eda752846df80f51933ee5a3691.pkl\n",
      "Memmapping (shape=(10000, 784), dtype=int64) to old file /var/folders/ws/2x2rgp1x619c6m223f0w33rm0000gn/T/joblib_memmapping_folder_10627_4030825822/10627-6321031824-bd1b0d04ba3c40408f6b869313ea2431.pkl\n",
      "[Parallel(n_jobs=4)]: Done  28 tasks      | elapsed: 17.4min\n",
      "Pickling array (shape=(10000,), dtype=int64).\n",
      "Pickling array (shape=(60000,), dtype=int64).\n",
      "Memmapping (shape=(60000, 784), dtype=int64) to old file /var/folders/ws/2x2rgp1x619c6m223f0w33rm0000gn/T/joblib_memmapping_folder_10627_4030825822/10627-6321031824-76d24eda752846df80f51933ee5a3691.pkl\n",
      "Memmapping (shape=(10000, 784), dtype=int64) to old file /var/folders/ws/2x2rgp1x619c6m223f0w33rm0000gn/T/joblib_memmapping_folder_10627_4030825822/10627-6321031824-bd1b0d04ba3c40408f6b869313ea2431.pkl\n",
      "[Parallel(n_jobs=4)]: Done  29 tasks      | elapsed: 19.7min\n",
      "Pickling array (shape=(10000,), dtype=int64).\n",
      "Pickling array (shape=(60000,), dtype=int64).\n",
      "Memmapping (shape=(60000, 784), dtype=int64) to old file /var/folders/ws/2x2rgp1x619c6m223f0w33rm0000gn/T/joblib_memmapping_folder_10627_4030825822/10627-6321031824-76d24eda752846df80f51933ee5a3691.pkl\n",
      "Memmapping (shape=(10000, 784), dtype=int64) to old file /var/folders/ws/2x2rgp1x619c6m223f0w33rm0000gn/T/joblib_memmapping_folder_10627_4030825822/10627-6321031824-bd1b0d04ba3c40408f6b869313ea2431.pkl\n",
      "[Parallel(n_jobs=4)]: Done  30 tasks      | elapsed: 20.7min\n",
      "Pickling array (shape=(10000,), dtype=int64).\n",
      "Pickling array (shape=(60000,), dtype=int64).\n",
      "Memmapping (shape=(60000, 784), dtype=int64) to old file /var/folders/ws/2x2rgp1x619c6m223f0w33rm0000gn/T/joblib_memmapping_folder_10627_4030825822/10627-6321031824-76d24eda752846df80f51933ee5a3691.pkl\n",
      "Memmapping (shape=(10000, 784), dtype=int64) to old file /var/folders/ws/2x2rgp1x619c6m223f0w33rm0000gn/T/joblib_memmapping_folder_10627_4030825822/10627-6321031824-bd1b0d04ba3c40408f6b869313ea2431.pkl\n",
      "[Parallel(n_jobs=4)]: Done  31 tasks      | elapsed: 21.1min\n",
      "Pickling array (shape=(10000,), dtype=int64).\n",
      "Pickling array (shape=(60000,), dtype=int64).\n",
      "Memmapping (shape=(60000, 784), dtype=int64) to old file /var/folders/ws/2x2rgp1x619c6m223f0w33rm0000gn/T/joblib_memmapping_folder_10627_4030825822/10627-6321031824-76d24eda752846df80f51933ee5a3691.pkl\n",
      "Memmapping (shape=(10000, 784), dtype=int64) to old file /var/folders/ws/2x2rgp1x619c6m223f0w33rm0000gn/T/joblib_memmapping_folder_10627_4030825822/10627-6321031824-bd1b0d04ba3c40408f6b869313ea2431.pkl\n",
      "[Parallel(n_jobs=4)]: Done  32 tasks      | elapsed: 21.9min\n",
      "Pickling array (shape=(10000,), dtype=int64).\n",
      "Pickling array (shape=(60000,), dtype=int64).\n",
      "Memmapping (shape=(60000, 784), dtype=int64) to old file /var/folders/ws/2x2rgp1x619c6m223f0w33rm0000gn/T/joblib_memmapping_folder_10627_4030825822/10627-6321031824-76d24eda752846df80f51933ee5a3691.pkl\n",
      "Memmapping (shape=(10000, 784), dtype=int64) to old file /var/folders/ws/2x2rgp1x619c6m223f0w33rm0000gn/T/joblib_memmapping_folder_10627_4030825822/10627-6321031824-bd1b0d04ba3c40408f6b869313ea2431.pkl\n",
      "[Parallel(n_jobs=4)]: Done  33 tasks      | elapsed: 25.0min\n",
      "Pickling array (shape=(10000,), dtype=int64).\n",
      "Pickling array (shape=(60000,), dtype=int64).\n",
      "Memmapping (shape=(60000, 784), dtype=int64) to old file /var/folders/ws/2x2rgp1x619c6m223f0w33rm0000gn/T/joblib_memmapping_folder_10627_4030825822/10627-6321031824-76d24eda752846df80f51933ee5a3691.pkl\n",
      "Memmapping (shape=(10000, 784), dtype=int64) to old file /var/folders/ws/2x2rgp1x619c6m223f0w33rm0000gn/T/joblib_memmapping_folder_10627_4030825822/10627-6321031824-bd1b0d04ba3c40408f6b869313ea2431.pkl\n",
      "[Parallel(n_jobs=4)]: Done  34 out of  40 | elapsed: 26.2min remaining:  4.6min\n",
      "Pickling array (shape=(10000,), dtype=int64).\n",
      "Pickling array (shape=(60000,), dtype=int64).\n",
      "Memmapping (shape=(60000, 784), dtype=int64) to old file /var/folders/ws/2x2rgp1x619c6m223f0w33rm0000gn/T/joblib_memmapping_folder_10627_4030825822/10627-6321031824-76d24eda752846df80f51933ee5a3691.pkl\n",
      "Memmapping (shape=(10000, 784), dtype=int64) to old file /var/folders/ws/2x2rgp1x619c6m223f0w33rm0000gn/T/joblib_memmapping_folder_10627_4030825822/10627-6321031824-bd1b0d04ba3c40408f6b869313ea2431.pkl\n",
      "[Parallel(n_jobs=4)]: Done  35 out of  40 | elapsed: 26.8min remaining:  3.8min\n",
      "Pickling array (shape=(10000,), dtype=int64).\n",
      "Pickling array (shape=(60000,), dtype=int64).\n",
      "Memmapping (shape=(60000, 784), dtype=int64) to old file /var/folders/ws/2x2rgp1x619c6m223f0w33rm0000gn/T/joblib_memmapping_folder_10627_4030825822/10627-6321031824-76d24eda752846df80f51933ee5a3691.pkl\n",
      "Memmapping (shape=(10000, 784), dtype=int64) to old file /var/folders/ws/2x2rgp1x619c6m223f0w33rm0000gn/T/joblib_memmapping_folder_10627_4030825822/10627-6321031824-bd1b0d04ba3c40408f6b869313ea2431.pkl\n",
      "[Parallel(n_jobs=4)]: Done  36 out of  40 | elapsed: 28.0min remaining:  3.1min\n",
      "[Parallel(n_jobs=4)]: Done  37 out of  40 | elapsed: 31.3min remaining:  2.5min\n",
      "[Parallel(n_jobs=4)]: Done  38 out of  40 | elapsed: 32.2min remaining:  1.7min\n",
      "[Parallel(n_jobs=4)]: Done  40 out of  40 | elapsed: 33.0min remaining:    0.0s\n",
      "[Parallel(n_jobs=4)]: Done  40 out of  40 | elapsed: 33.0min finished\n"
     ]
    }
   ],
   "source": [
    "n_features_range = list(np.arange(200, 4200, 100))\n",
    "scores = []\n",
    "\n",
    "with Parallel(n_jobs=4, verbose=100) as parallel:\n",
    "    scores = parallel(\n",
    "        delayed(score_rks_with_)(n_features)\n",
    "        for n_features in n_features_range\n",
    "    )"
   ]
  },
  {
   "cell_type": "code",
   "execution_count": 25,
   "metadata": {},
   "outputs": [
    {
     "data": {
      "image/png": "[encoded data removed]",
      "text/plain": [
       "<Figure size 432x288 with 1 Axes>"
      ]
     },
     "metadata": {
      "needs_background": "light"
     },
     "output_type": "display_data"
    }
   ],
   "source": [
    "df_to_draw = pd.DataFrame(\n",
    "    data={\n",
    "        \"n_features\": n_features_range, \n",
    "        \"score\":      scores,\n",
    "    },\n",
    ")\n",
    "\n",
    "ax = sns.lineplot(\n",
    "    x=\"n_features\",\n",
    "    y=\"score\",\n",
    "    data=df_to_draw,\n",
    ")\n",
    "_ = ax.set(\n",
    "    xlabel=\"Number of features\",\n",
    "    ylabel=\"Accuracy score\",\n",
    ")"
   ]
  },
  {
   "cell_type": "markdown",
   "metadata": {},
   "source": [
    "Видно, что, если пренебречь небольшой погрешностью, качество с увеличением количества новых признаков спустя какое-то время стабилизируется и колеблется в некотором небольшом интервале (то есть, \"выходит на плато\").\n",
    "\n",
    "Если сравнивать логистическую регрессию и SVM (что мы неявно делали на протяжении этих заданий), то можно заметить, что первая модель работает значительно быстрее, однако ограничение сверху по достижимому качеству у SVM выше (что, в принципе, логично)."
   ]
  },
  {
   "cell_type": "markdown",
   "metadata": {
    "id": "CJqXVuasK-hW"
   },
   "source": [
    "### Бонус"
   ]
  },
  {
   "cell_type": "markdown",
   "metadata": {
    "id": "QVDWHCdrK-hX"
   },
   "source": [
    "__Задание 4. (Максимум 2 балла)__\n",
    "\n",
    "Как вы, должно быть, помните с курса МО-1, многие алгоритмы машинного обучения работают лучше, если признаки данных некоррелированы. Оказывается, что для RFF существует модификация, позволяющая получать ортогональные случайные признаки (Orthogonal Random Features, ORF). Об этом методе можно прочитать в [статье](https://proceedings.neurips.cc/paper/2016/file/53adaf494dc89ef7196d73636eb2451b-Paper.pdf). Реализуйте класс для вычисления ORF по аналогии с основным заданием. Обратите внимание, что ваш класс должен уметь работать со случаем n_features > new_dim (в статье есть замечание на этот счет). Проведите эксперименты, сравнивающие RFF и ORF, сделайте выводы."
   ]
  },
  {
   "cell_type": "code",
   "execution_count": null,
   "metadata": {
    "id": "HSxvGI9iK-hX"
   },
   "outputs": [],
   "source": [
    "# Your code here: (￣▽￣)/♫•*¨*•.¸¸♪"
   ]
  },
  {
   "cell_type": "markdown",
   "metadata": {
    "id": "4pc7-1jmK-hY"
   },
   "source": [
    "__Задание 5. (Максимум 2 балла)__\n",
    "\n",
    "Поэкспериментируйте с функциями для вычисления новых случайных признаков. Не обязательно использовать косинус от скалярного произведения — можно брать знак от него, хэш и т.д. Придумайте побольше вариантов для генерации признаков и проверьте, не получается ли с их помощью добиваться более высокого качества. Также можете попробовать другой классификатор поверх случайных признаков, сравните результаты."
   ]
  },
  {
   "cell_type": "code",
   "execution_count": null,
   "metadata": {
    "id": "dWj-O2vjK-hY"
   },
   "outputs": [],
   "source": [
    "# Your code here: (￣▽￣)/♫•*¨*•.¸¸♪"
   ]
  }
 ],
 "metadata": {
  "colab": {
   "collapsed_sections": [],
   "name": "homework-practice-08-random-features.ipynb",
   "provenance": []
  },
  "kernelspec": {
   "display_name": "Python 3",
   "language": "python",
   "name": "python3"
  },
  "language_info": {
   "codemirror_mode": {
    "name": "ipython",
    "version": 3
   },
   "file_extension": ".py",
   "mimetype": "text/x-python",
   "name": "python",
   "nbconvert_exporter": "python",
   "pygments_lexer": "ipython3",
   "version": "3.7.4"
  }
 },
 "nbformat": 4,
 "nbformat_minor": 1
}
